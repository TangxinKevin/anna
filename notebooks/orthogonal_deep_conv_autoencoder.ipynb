{
 "metadata": {
  "name": "orthogonal_deep_conv_autoencoder"
 }, 
 "nbformat": 2, 
 "worksheets": [
  {
   "cells": [
    {
     "cell_type": "code", 
     "collapsed": false, 
     "input": [
      "from copy import copy", 
      "", 
      "import numpy", 
      "import matplotlib.pyplot as pyplot", 
      "", 
      "import theano", 
      "import theano.tensor as T  #TODO(tpaine) remove this dependency, can be done by factoring out the cost theano equation", 
      "", 
      "from layers import layers, cc_layers", 
      "", 
      "import datasets.unsupervised_dataset as unsupervised_dataset", 
      "", 
      "theano.config.floatX = 'float32'", 
      "", 
      "def orthogonalize(w):", 
      "    # Orthogonalize square matrices.", 
      "    # Or left orthogonalize overcomplete matrices.", 
      "    # Simply gets an SVD decomposition, and sets the singular values to ones.", 
      "    dim2, dim1 = w.shape", 
      "    short = numpy.min((dim2, dim1))", 
      "    u, s, v = numpy.linalg.svd(w)", 
      "    S = numpy.zeros((dim2,dim1))", 
      "    s = s/s", 
      "    S[:short,:short] = numpy.diag(s)", 
      "    w = numpy.dot(u,numpy.dot(S,v))", 
      "    w = numpy.float32(w)", 
      "    return w", 
      "", 
      "def conv_orthogonalize(w, k=1.0):", 
      "    # Reshape filters into a matrix", 
      "    channels, width, height, filters = w.shape", 
      "    w = w.reshape(channels*width*height, filters).transpose(1,0)", 
      "", 
      "    # Orthogonalize the matrix", 
      "    w = orthogonalize(w)", 
      "", 
      "    # Contruct 2D hamming window", 
      "    hamming1 = numpy.hamming(width)", 
      "    hamming2 = numpy.hamming(height)", 
      "    hamming = numpy.outer(hamming1, hamming2)", 
      "", 
      "    # Use it to mask the input to w", 
      "    mask = numpy.tile(hamming[None,:,:], (channels,1,1))", 
      "    mask = mask.reshape(channels*width*height)*k", 
      "    m = numpy.diag(mask)", 
      "    w = numpy.dot(w, m)", 
      "", 
      "    # Reshape the matrix into filters", 
      "    w = w.transpose(1,0)", 
      "    w =  w.reshape(channels, width, height, filters)", 
      "    w = numpy.float32(w)", 
      "    return w", 
      "", 
      "def get_image(batch, i):", 
      "    image = numpy.uint8(batch[:,:,:,i].transpose(1,2,0)/2.0*255.0)", 
      "    return image", 
      "", 
      "class Model(object):", 
      "    input = cc_layers.CudaConvnetInput2DLayer(128, 3, 96, 96)", 
      "    conv1 = cc_layers.ACudaConvnetConv2DLayer(input, ", 
      "                                             n_filters=32,", 
      "                                             filter_size=3,", 
      "                                             weights_std=0.01,", 
      "                                             init_bias_value=0.0)", 
      "    conv2 = cc_layers.ACudaConvnetConv2DLayer(conv1, ", 
      "                                             n_filters=64,", 
      "                                             filter_size=3,", 
      "                                             weights_std=0.01,", 
      "                                             init_bias_value=0.0)", 
      "    deconv3 = cc_layers.ACudaConvnetDeconv2DLayer(conv2,", 
      "                                                 n_channels=32,", 
      "                                                 filter_size=3,", 
      "                                                 weights_std=0.01,", 
      "                                                 init_bias_value=0.0)", 
      "    output = cc_layers.ACudaConvnetDeconv2DLayer(deconv3,", 
      "                                                 n_channels=3,", 
      "                                                 filter_size=3,", 
      "                                                 weights_std=0.01,", 
      "                                                 init_bias_value=0.0)", 
      "    ", 
      "    def __init__(self, name, path):", 
      "        self.name = name", 
      "        self.path = path", 
      "        self.all_parameters_symbol = layers.all_parameters(self._get_output_layer())", 
      "    ", 
      "        # can switch to gen_updates_regular_momentum", 
      "        self.learning_rate_symbol = theano.shared(numpy.array(0.01, dtype=theano.config.floatX))", 
      "        # self.updates_symbol = layers.gen_updates_sgd(self._get_cost_symbol(),", 
      "        #                                             self.all_parameters_symbol,", 
      "        #                                             learning_rate=self.learning_rate_symbol)", 
      "        self.updates_symbol = layers.gen_updates_regular_momentum(self._get_cost_symbol(),", 
      "                                                                  self.all_parameters_symbol,", 
      "                                                                  learning_rate=self.learning_rate_symbol,", 
      "                                                                  momentum=0.9,", 
      "                                                                  weight_decay=1e-5)", 
      "", 
      "        ", 
      "        self.train_func = theano.function([self._get_input_symbol()],", 
      "                                           self._get_cost_symbol(),", 
      "                                           updates=self.updates_symbol)", 
      "        self.eval_func = theano.function([self._get_input_symbol()],", 
      "                                         self._get_cost_symbol())", 
      "        self.prediction_func = theano.function([self._get_input_symbol()],", 
      "                                          self._get_output_symbol())", 
      "    def _get_input_symbol(self):", 
      "        return self.input.output()", 
      "    ", 
      "    def _get_output_symbol(self):", 
      "        return self.output.output()", 
      "    ", 
      "    def _get_cost_symbol(self):", 
      "        input = self._get_input_symbol()", 
      "        output = self._get_output_symbol()", 
      "        cost = T.mean((output - input) ** 2)", 
      "        return cost", 
      "", 
      "    def _get_output_layer(self):", 
      "        return self.output", 
      "    ", 
      "    def train(self, batch):", 
      "        return self.train_func(batch)", 
      "    ", 
      "    def eval(self, batch):", 
      "        return self.eval_func(batch)", 
      "", 
      "    def prediction(self, batch):", 
      "        return self.prediction_func(batch)"
     ], 
     "language": "python", 
     "outputs": [], 
     "prompt_number": 4
    }, 
    {
     "cell_type": "code", 
     "collapsed": true, 
     "input": [
      "data = numpy.load('/data/stl10_matlab/unsupervised.npy')", 
      "data = numpy.float32(data)", 
      "data = data/255.0*2.0", 
      "train_data = data[0:90000, :, :, :]", 
      "test_data = data[90000::, :, :, :]", 
      "", 
      "train_dataset = unsupervised_dataset.UnsupervisedDataset(train_data)", 
      "test_dataset = unsupervised_dataset.UnsupervisedDataset(test_data)", 
      "test_iterator = test_dataset.iterator(mode='sequential', batch_size=128)", 
      "train_iterator = train_dataset.iterator(mode='random_uniform', batch_size=128, num_batches=100000)"
     ], 
     "language": "python", 
     "outputs": [], 
     "prompt_number": 3
    }, 
    {
     "cell_type": "code", 
     "collapsed": false, 
     "input": [
      "batch = test_iterator.next()", 
      "batch = batch.transpose(1,2,3,0)", 
      "model = Model('deconv-stl10-96x128', '/experiments/deconv/stl10-96x128')", 
      "monitor = util.Monitor(model)", 
      "w1 = model.conv1.W.get_value()", 
      "w2 = model.conv2.W.get_value()", 
      "w1_old = copy(w1)", 
      "w2_old = copy(w2)"
     ], 
     "language": "python", 
     "outputs": [], 
     "prompt_number": 5
    }, 
    {
     "cell_type": "code", 
     "collapsed": false, 
     "input": [
      "k = 1.05", 
      "alpha = numpy.float32(0.0)", 
      "", 
      "w1 = conv_orthogonalize(w1_old,k=k)", 
      "w2 = conv_orthogonalize(w2_old,k=k)", 
      "# Initialize the layers with orthogonal weights", 
      "model.conv1.W.set_value(w1)", 
      "model.conv2.W.set_value(w2)", 
      "model.deconv3.W.set_value(w2)", 
      "model.output.W.set_value(w1)", 
      "batch_hat = model.prediction(batch)", 
      "print 'k: %0.2f, error: %0.4f' % (k, model.eval(batch))", 
      "#model.conv1.W.set_value(w1_old)", 
      "#model.conv2.W.set_value(w2_old)", 
      "#model.deconv3.W.set_value(w2_old)", 
      "#model.output.W.set_value(w1_old)"
     ], 
     "language": "python", 
     "outputs": [
      {
       "output_type": "stream", 
       "stream": "stdout", 
       "text": [
        "k: 1.05, error: 0.5640"
       ]
      }
     ], 
     "prompt_number": 13
    }, 
    {
     "cell_type": "code", 
     "collapsed": false, 
     "input": [
      "model.learning_rate_symbol.set_value(0.001)", 
      "count = 1", 
      "for batch in train_iterator:", 
      "    if count % 100 == 0:", 
      "        alpha += 0.1", 
      "        model.conv1.alpha.set_value(alpha)", 
      "        model.conv2.alpha.set_value(alpha)", 
      "        model.deconv3.alpha.set_value(alpha)", 
      "        model.output.alpha.set_value(alpha)", 
      "        print 'alpha set to %0.3f' % alpha", 
      "    batch = batch.transpose(1,2,3,0)", 
      "    monitor.start()", 
      "    error = model.train(batch)", 
      "    monitor.stop(error)", 
      "    print error", 
      "    count += 1"
     ], 
     "language": "python", 
     "outputs": [
      {
       "output_type": "stream", 
       "stream": "stdout", 
       "text": [
        "0.469080418348", 
        "0.408279687166"
       ]
      }, 
      {
       "output_type": "stream", 
       "stream": "stdout", 
       "text": [
        "", 
        "0.344721883535"
       ]
      }, 
      {
       "output_type": "stream", 
       "stream": "stdout", 
       "text": [
        "", 
        "0.284986495972"
       ]
      }, 
      {
       "output_type": "stream", 
       "stream": "stdout", 
       "text": [
        "", 
        "0.222353219986"
       ]
      }, 
      {
       "output_type": "stream", 
       "stream": "stdout", 
       "text": [
        "", 
        "0.169053554535"
       ]
      }, 
      {
       "output_type": "stream", 
       "stream": "stdout", 
       "text": [
        "", 
        "0.127952173352"
       ]
      }, 
      {
       "output_type": "stream", 
       "stream": "stdout", 
       "text": [
        "", 
        "0.0847577154636"
       ]
      }, 
      {
       "output_type": "stream", 
       "stream": "stdout", 
       "text": [
        "", 
        "0.0806608274579"
       ]
      }, 
      {
       "output_type": "stream", 
       "stream": "stdout", 
       "text": [
        "", 
        "0.104108683765"
       ]
      }, 
      {
       "output_type": "stream", 
       "stream": "stdout", 
       "text": [
        "", 
        "0.135801836848"
       ]
      }, 
      {
       "output_type": "stream", 
       "stream": "stdout", 
       "text": [
        "", 
        "0.181165203452"
       ]
      }, 
      {
       "output_type": "stream", 
       "stream": "stdout", 
       "text": [
        "", 
        "0.192265257239"
       ]
      }, 
      {
       "output_type": "stream", 
       "stream": "stdout", 
       "text": [
        "", 
        "0.177406489849"
       ]
      }, 
      {
       "output_type": "stream", 
       "stream": "stdout", 
       "text": [
        "", 
        "0.160063534975"
       ]
      }, 
      {
       "output_type": "stream", 
       "stream": "stdout", 
       "text": [
        "", 
        "0.134732738137"
       ]
      }, 
      {
       "output_type": "stream", 
       "stream": "stdout", 
       "text": [
        "", 
        "0.104212373495"
       ]
      }, 
      {
       "output_type": "stream", 
       "stream": "stdout", 
       "text": [
        "", 
        "0.083268225193"
       ]
      }, 
      {
       "output_type": "stream", 
       "stream": "stdout", 
       "text": [
        "", 
        "0.0819355025887"
       ]
      }, 
      {
       "output_type": "stream", 
       "stream": "stdout", 
       "text": [
        "", 
        "0.0815642699599"
       ]
      }, 
      {
       "output_type": "stream", 
       "stream": "stdout", 
       "text": [
        "", 
        "0.10006275028"
       ]
      }, 
      {
       "output_type": "stream", 
       "stream": "stdout", 
       "text": [
        "", 
        "0.10979911685"
       ]
      }, 
      {
       "output_type": "stream", 
       "stream": "stdout", 
       "text": [
        "", 
        "0.10856243968"
       ]
      }, 
      {
       "output_type": "stream", 
       "stream": "stdout", 
       "text": [
        "", 
        "0.120341747999"
       ]
      }, 
      {
       "output_type": "stream", 
       "stream": "stdout", 
       "text": [
        "", 
        "0.119766153395"
       ]
      }, 
      {
       "output_type": "stream", 
       "stream": "stdout", 
       "text": [
        "", 
        "0.111335426569"
       ]
      }, 
      {
       "output_type": "stream", 
       "stream": "stdout", 
       "text": [
        "", 
        "0.104217164218"
       ]
      }, 
      {
       "output_type": "stream", 
       "stream": "stdout", 
       "text": [
        "", 
        "0.0972714647651"
       ]
      }, 
      {
       "output_type": "stream", 
       "stream": "stdout", 
       "text": [
        "", 
        "0.0892968699336"
       ]
      }, 
      {
       "output_type": "stream", 
       "stream": "stdout", 
       "text": [
        "", 
        "0.0844367071986"
       ]
      }, 
      {
       "output_type": "stream", 
       "stream": "stdout", 
       "text": [
        "", 
        "0.0862750187516"
       ]
      }, 
      {
       "output_type": "stream", 
       "stream": "stdout", 
       "text": [
        "", 
        "0.0801238641143"
       ]
      }, 
      {
       "output_type": "stream", 
       "stream": "stdout", 
       "text": [
        "", 
        "0.0741110369563"
       ]
      }, 
      {
       "output_type": "stream", 
       "stream": "stdout", 
       "text": [
        "", 
        "0.0782149061561"
       ]
      }, 
      {
       "output_type": "stream", 
       "stream": "stdout", 
       "text": [
        "", 
        "0.0835945382714"
       ]
      }, 
      {
       "output_type": "stream", 
       "stream": "stdout", 
       "text": [
        "", 
        "0.0882211253047"
       ]
      }, 
      {
       "output_type": "stream", 
       "stream": "stdout", 
       "text": [
        "", 
        "0.0898706838489"
       ]
      }, 
      {
       "output_type": "stream", 
       "stream": "stdout", 
       "text": [
        "", 
        "0.08801741153"
       ]
      }, 
      {
       "output_type": "stream", 
       "stream": "stdout", 
       "text": [
        "", 
        "0.0753597691655"
       ]
      }, 
      {
       "output_type": "stream", 
       "stream": "stdout", 
       "text": [
        "", 
        "0.0822099819779"
       ]
      }, 
      {
       "output_type": "stream", 
       "stream": "stdout", 
       "text": [
        "", 
        "0.085891418159"
       ]
      }, 
      {
       "output_type": "stream", 
       "stream": "stdout", 
       "text": [
        "", 
        "0.0810549035668"
       ]
      }, 
      {
       "output_type": "stream", 
       "stream": "stdout", 
       "text": [
        "", 
        "0.0875647962093"
       ]
      }, 
      {
       "output_type": "stream", 
       "stream": "stdout", 
       "text": [
        "", 
        "0.0753299668431"
       ]
      }, 
      {
       "ename": "KeyboardInterrupt", 
       "evalue": "", 
       "output_type": "pyerr", 
       "traceback": [
        "\u001b[0;31m---------------------------------------------------------------------------\u001b[0m\n\u001b[0;31mKeyboardInterrupt\u001b[0m                         Traceback (most recent call last)", 
        "\u001b[0;32m/home/paine1/unsupervised_experiments/<ipython-input-15-f4e5959428fe>\u001b[0m in \u001b[0;36m<module>\u001b[0;34m()\u001b[0m\n\u001b[1;32m     10\u001b[0m         \u001b[0;32mprint\u001b[0m \u001b[0;34m'alpha set to %0.3f'\u001b[0m \u001b[0;34m%\u001b[0m \u001b[0malpha\u001b[0m\u001b[0;34m\u001b[0m\u001b[0m\n\u001b[1;32m     11\u001b[0m     \u001b[0mbatch\u001b[0m \u001b[0;34m=\u001b[0m \u001b[0mbatch\u001b[0m\u001b[0;34m.\u001b[0m\u001b[0mtranspose\u001b[0m\u001b[0;34m(\u001b[0m\u001b[0;36m1\u001b[0m\u001b[0;34m,\u001b[0m\u001b[0;36m2\u001b[0m\u001b[0;34m,\u001b[0m\u001b[0;36m3\u001b[0m\u001b[0;34m,\u001b[0m\u001b[0;36m0\u001b[0m\u001b[0;34m)\u001b[0m\u001b[0;34m\u001b[0m\u001b[0m\n\u001b[0;32m---> 12\u001b[0;31m     \u001b[0merror\u001b[0m \u001b[0;34m=\u001b[0m \u001b[0mmodel\u001b[0m\u001b[0;34m.\u001b[0m\u001b[0mtrain\u001b[0m\u001b[0;34m(\u001b[0m\u001b[0mbatch\u001b[0m\u001b[0;34m)\u001b[0m\u001b[0;34m\u001b[0m\u001b[0m\n\u001b[0m\u001b[1;32m     13\u001b[0m     \u001b[0;32mprint\u001b[0m \u001b[0merror\u001b[0m\u001b[0;34m\u001b[0m\u001b[0m\n\u001b[1;32m     14\u001b[0m     \u001b[0mcount\u001b[0m \u001b[0;34m+=\u001b[0m \u001b[0;36m1\u001b[0m\u001b[0;34m\u001b[0m\u001b[0m\n", 
        "\u001b[0;32m/home/paine1/unsupervised_experiments/<ipython-input-4-a20987dc3fba>\u001b[0m in \u001b[0;36mtrain\u001b[0;34m(self, batch)\u001b[0m\n\u001b[1;32m    119\u001b[0m \u001b[0;34m\u001b[0m\u001b[0m\n\u001b[1;32m    120\u001b[0m     \u001b[0;32mdef\u001b[0m \u001b[0mtrain\u001b[0m\u001b[0;34m(\u001b[0m\u001b[0mself\u001b[0m\u001b[0;34m,\u001b[0m \u001b[0mbatch\u001b[0m\u001b[0;34m)\u001b[0m\u001b[0;34m:\u001b[0m\u001b[0;34m\u001b[0m\u001b[0m\n\u001b[0;32m--> 121\u001b[0;31m         \u001b[0;32mreturn\u001b[0m \u001b[0mself\u001b[0m\u001b[0;34m.\u001b[0m\u001b[0mtrain_func\u001b[0m\u001b[0;34m(\u001b[0m\u001b[0mbatch\u001b[0m\u001b[0;34m)\u001b[0m\u001b[0;34m\u001b[0m\u001b[0m\n\u001b[0m\u001b[1;32m    122\u001b[0m \u001b[0;34m\u001b[0m\u001b[0m\n\u001b[1;32m    123\u001b[0m     \u001b[0;32mdef\u001b[0m \u001b[0meval\u001b[0m\u001b[0;34m(\u001b[0m\u001b[0mself\u001b[0m\u001b[0;34m,\u001b[0m \u001b[0mbatch\u001b[0m\u001b[0;34m)\u001b[0m\u001b[0;34m:\u001b[0m\u001b[0;34m\u001b[0m\u001b[0m\n", 
        "\u001b[0;32m/home/paine1/Theano/theano/compile/function_module.pyc\u001b[0m in \u001b[0;36m__call__\u001b[0;34m(self, *args, **kwargs)\u001b[0m\n\u001b[1;32m    577\u001b[0m         \u001b[0mt0_fn\u001b[0m \u001b[0;34m=\u001b[0m \u001b[0mtime\u001b[0m\u001b[0;34m.\u001b[0m\u001b[0mtime\u001b[0m\u001b[0;34m(\u001b[0m\u001b[0;34m)\u001b[0m\u001b[0;34m\u001b[0m\u001b[0m\n\u001b[1;32m    578\u001b[0m         \u001b[0;32mtry\u001b[0m\u001b[0;34m:\u001b[0m\u001b[0;34m\u001b[0m\u001b[0m\n\u001b[0;32m--> 579\u001b[0;31m             \u001b[0moutputs\u001b[0m \u001b[0;34m=\u001b[0m \u001b[0mself\u001b[0m\u001b[0;34m.\u001b[0m\u001b[0mfn\u001b[0m\u001b[0;34m(\u001b[0m\u001b[0;34m)\u001b[0m\u001b[0;34m\u001b[0m\u001b[0m\n\u001b[0m\u001b[1;32m    580\u001b[0m         \u001b[0;32mexcept\u001b[0m \u001b[0mException\u001b[0m\u001b[0;34m:\u001b[0m\u001b[0;34m\u001b[0m\u001b[0m\n\u001b[1;32m    581\u001b[0m             \u001b[0;32mif\u001b[0m \u001b[0mhasattr\u001b[0m\u001b[0;34m(\u001b[0m\u001b[0mself\u001b[0m\u001b[0;34m.\u001b[0m\u001b[0mfn\u001b[0m\u001b[0;34m,\u001b[0m \u001b[0;34m'position_of_error'\u001b[0m\u001b[0;34m)\u001b[0m\u001b[0;34m:\u001b[0m\u001b[0;34m\u001b[0m\u001b[0m\n", 
        "\u001b[0;31mKeyboardInterrupt\u001b[0m: "
       ]
      }, 
      {
       "output_type": "stream", 
       "stream": "stdout", 
       "text": [
        ""
       ]
      }
     ], 
     "prompt_number": 15
    }, 
    {
     "cell_type": "code", 
     "collapsed": true, 
     "input": [
      "batch = test_iterator.next()", 
      "batch = batch.transpose(1,2,3,0)", 
      "batch_hat = model.prediction(batch)"
     ], 
     "language": "python", 
     "outputs": [], 
     "prompt_number": 43
    }, 
    {
     "cell_type": "code", 
     "collapsed": true, 
     "input": [
      "i = numpy.random.randint(128)", 
      "image = get_image(batch, i)", 
      "image_hat = get_image(batch_hat, i)", 
      "pyplot.imshow(numpy.hstack((image, image_hat)))", 
      "pyplot.colorbar()", 
      "pyplot.show()"
     ], 
     "language": "python", 
     "outputs": [], 
     "prompt_number": 47
    }, 
    {
     "cell_type": "code", 
     "collapsed": true, 
     "input": [], 
     "language": "python", 
     "outputs": [], 
     "prompt_number": 44
    }, 
    {
     "cell_type": "code", 
     "collapsed": true, 
     "input": [], 
     "language": "python", 
     "outputs": []
    }
   ]
  }
 ]
}