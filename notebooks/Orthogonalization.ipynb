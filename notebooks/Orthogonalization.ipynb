{
 "metadata": {
  "name": "Orthogonalization"
 }, 
 "nbformat": 2, 
 "worksheets": [
  {
   "cells": [
    {
     "cell_type": "code", 
     "collapsed": true, 
     "input": [
      "import numpy", 
      "import copy", 
      "import matplotlib.pyplot as pyplot"
     ], 
     "language": "python", 
     "outputs": [], 
     "prompt_number": 2
    }, 
    {
     "cell_type": "code", 
     "collapsed": true, 
     "input": [
      "def trec(x,a):", 
      "    return x*(numpy.abs(x)>a)"
     ], 
     "language": "python", 
     "outputs": []
    }, 
    {
     "cell_type": "code", 
     "collapsed": false, 
     "input": [
      "def orthogonalize(w):", 
      "    # Orthogonalize square matrices.", 
      "    # Or left orthogonalize overcomplete matrices.", 
      "    # Simply gets an SVD decomposition, and sets the singular values to ones.", 
      "    n, m = w.shape", 
      "    u, s, v = numpy.linalg.svd(w)", 
      "    S = numpy.zeros((dim2,dim1))", 
      "    s = s/s", 
      "    S[:dim1,:dim1] = numpy.diag(s)", 
      "    w = numpy.dot(u,numpy.dot(S,v))", 
      "    return w", 
      "w = orthogonalize(w)", 
      "print numpy.dot(w.T,w)"
     ], 
     "language": "python", 
     "outputs": [
      {
       "output_type": "stream", 
       "stream": "stdout", 
       "text": [
        "[[  1.00000000e+00   4.36751363e-18  -1.33142991e-19 ...,  -2.45372210e-18", 
        "    7.79270311e-19  -3.31535644e-18]", 
        " [  4.36751363e-18   1.00000000e+00   9.12250249e-17 ...,  -2.13293166e-16", 
        "    1.00788874e-16  -9.15563670e-17]", 
        " [ -1.33142991e-19   9.12250249e-17   1.00000000e+00 ...,  -1.43439471e-17", 
        "    2.14081331e-16  -4.77446003e-17]", 
        " ..., ", 
        " [ -2.45372210e-18  -2.13293166e-16  -1.43439471e-17 ...,   1.00000000e+00", 
        "   -5.53146925e-17  -9.74818654e-17]", 
        " [  7.79270311e-19   1.00788874e-16   2.14081331e-16 ...,  -5.53146925e-17", 
        "    1.00000000e+00  -9.53933005e-17]", 
        " [ -3.31535644e-18  -9.15563670e-17  -4.77446003e-17 ...,  -9.74818654e-17", 
        "   -9.53933005e-17   1.00000000e+00]]"
       ]
      }
     ], 
     "prompt_number": 118
    }, 
    {
     "cell_type": "code", 
     "collapsed": false, 
     "input": [
      "dim1 = 1600 # m", 
      "dim2 = 800 # n", 
      "x = numpy.random.randn(dim1)", 
      "w = numpy.random.randn(dim2,dim1)", 
      "w_old = copy.copy(w)", 
      "u, s, v = numpy.linalg.svd(w)", 
      "S = numpy.zeros((dim2,dim1))", 
      "print S.shape", 
      "s = s/s", 
      "S[:dim2,:dim2] = numpy.diag(s)", 
      "print u.shape", 
      "print s.shape", 
      "print v.shape", 
      "w = numpy.dot(u,numpy.dot(S,v))", 
      "diff = numpy.mean((w-w_old)**2)", 
      "print diff", 
      "print numpy.dot(w.T,w)"
     ], 
     "language": "python", 
     "outputs": [
      {
       "output_type": "stream", 
       "stream": "stdout", 
       "text": [
        "(800, 1600)", 
        "(800, 800)", 
        "(800,)", 
        "(1600, 1600)", 
        "0.954806739345"
       ]
      }, 
      {
       "output_type": "stream", 
       "stream": "stdout", 
       "text": [
        "", 
        "[[  4.94043363e-01   5.22798792e-03  -5.44763196e-03 ...,   1.98596720e-02", 
        "   -6.94604717e-03  -2.06688929e-04]", 
        " [  5.22798792e-03   4.85717863e-01  -1.16197758e-02 ...,   5.99839359e-03", 
        "    2.45205872e-02  -1.45528147e-02]", 
        " [ -5.44763196e-03  -1.16197758e-02   4.99853416e-01 ...,  -1.39001277e-03", 
        "    1.24444889e-02  -1.29650068e-02]", 
        " ..., ", 
        " [  1.98596720e-02   5.99839359e-03  -1.39001277e-03 ...,   4.81506014e-01", 
        "   -9.10035088e-03  -1.84534193e-02]", 
        " [ -6.94604717e-03   2.45205872e-02   1.24444889e-02 ...,  -9.10035088e-03", 
        "    5.07248422e-01   1.00113219e-02]", 
        " [ -2.06688929e-04  -1.45528147e-02  -1.29650068e-02 ...,  -1.84534193e-02", 
        "    1.00113219e-02   4.96063079e-01]]"
       ]
      }, 
      {
       "output_type": "stream", 
       "stream": "stdout", 
       "text": [
        ""
       ]
      }
     ], 
     "prompt_number": 12
    }, 
    {
     "cell_type": "code", 
     "collapsed": true, 
     "input": [
      "costs = []", 
      "alphas = numpy.arange(0.0, 1.0, 0.1)", 
      "for a in alphas:", 
      "    l1 = numpy.dot(w, x)", 
      "    l1 = trec(l1, a)", 
      "    x_hat = numpy.dot(w.T, l1)", 
      "    cost = numpy.mean((x_hat-x)**2)", 
      "    costs.append(cost)", 
      "pyplot.plot(alphas, costs)", 
      "pyplot.xlabel('alpha')", 
      "pyplot.ylabel('cost')", 
      "pyplot.show()"
     ], 
     "language": "python", 
     "outputs": [], 
     "prompt_number": 114
    }, 
    {
     "cell_type": "code", 
     "collapsed": true, 
     "input": [], 
     "language": "python", 
     "outputs": []
    }
   ]
  }
 ]
}