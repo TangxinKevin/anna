{
 "metadata": {
  "name": "orthogonal_autoencoder"
 }, 
 "nbformat": 2, 
 "worksheets": [
  {
   "cells": [
    {
     "cell_type": "code", 
     "collapsed": true, 
     "input": [
      "import numpy", 
      "import matplotlib.pyplot as pyplot", 
      "", 
      "import theano", 
      "import theano.tensor as T  #TODO(tpaine) remove this dependency, can be done by factoring out the cost theano equation", 
      "", 
      "import pylearn2.datasets.mnist as mnist", 
      "", 
      "from layers import layers, cc_layers", 
      "import util", 
      "", 
      "theano.config.floatX = 'float32'"
     ], 
     "language": "python", 
     "outputs": [], 
     "prompt_number": 13
    }, 
    {
     "cell_type": "code", 
     "collapsed": true, 
     "input": [
      "def orthogonalize(w):", 
      "    # Orthogonalize square matrices.", 
      "    # Or left orthogonalize overcomplete matrices.", 
      "    # Simply gets an SVD decomposition, and sets the singular values to ones.", 
      "    dim2, dim1 = w.shape", 
      "    u, s, v = numpy.linalg.svd(w)", 
      "    S = numpy.zeros((dim2,dim1))", 
      "    s = s/s", 
      "    S[:dim2,:dim2] = numpy.diag(s)", 
      "    w = numpy.dot(u,numpy.dot(S,v))", 
      "    w = numpy.float32(w)", 
      "    return w"
     ], 
     "language": "python", 
     "outputs": [], 
     "prompt_number": 23
    }, 
    {
     "cell_type": "code", 
     "collapsed": false, 
     "input": [
      "class Model(object):", 
      "    input = layers.FlatInputLayer(128, 28*28)", 
      "    layer1 = layers.ADenseLayer(input,", 
      "                               n_outputs=1000,", 
      "                               weights_std=0.01,", 
      "                               init_bias_value=0.0,", 
      "                               nonlinearity=layers.a_rectify)", 
      "    layer2 = layers.ADenseLayer(layer1,", 
      "                               n_outputs=1000,", 
      "                               weights_std=0.01,", 
      "                               init_bias_value=0.0,", 
      "                               nonlinearity=layers.a_rectify)", 
      "    layer3 = layers.ADenseLayer(layer2,", 
      "                               n_outputs=1000,", 
      "                               weights_std=0.01,", 
      "                               init_bias_value=0.0,", 
      "                               nonlinearity=layers.a_rectify)", 
      "    layer4 = layers.ADenseLayer(layer3,", 
      "                               n_outputs=1000,", 
      "                               weights_std=0.01,", 
      "                               init_bias_value=0.0,", 
      "                               nonlinearity=layers.a_rectify)", 
      "    layer5 = layers.ADenseLayer(layer4,", 
      "                               n_outputs=1000,", 
      "                               weights_std=0.01,", 
      "                               init_bias_value=0.0,", 
      "                               nonlinearity=layers.a_rectify)", 
      "    layer6 = layers.ADenseLayer(layer5,", 
      "                               n_outputs=1000,", 
      "                               weights_std=0.01,", 
      "                               init_bias_value=0.0,", 
      "                               nonlinearity=layers.a_rectify)", 
      "    layer7 = layers.ADenseLayer(layer6,", 
      "                               n_outputs=1000,", 
      "                               weights_std=0.01,", 
      "                               init_bias_value=0.0,", 
      "                               nonlinearity=layers.a_rectify)", 
      "    layer8 = layers.ADenseLayer(layer7,", 
      "                               n_outputs=28*28,", 
      "                               weights_std=0.01,", 
      "                               init_bias_value=0.0,", 
      "                               nonlinearity=layers.a_rectify)", 
      "    def __init__(self, name, path):", 
      "        self.name = name", 
      "        self.path = path", 
      "        self.all_parameters_symbol = layers.all_parameters(self._get_output_layer())", 
      "    ", 
      "        # can switch to gen_updates_regular_momentum", 
      "        self.learning_rate_symbol = theano.shared(numpy.array(0.01, dtype=theano.config.floatX))", 
      "        self.updates_symbol = layers.gen_updates_sgd(self._get_cost_symbol(),", 
      "                                                     self.all_parameters_symbol,", 
      "                                                     learning_rate=self.learning_rate_symbol)", 
      "", 
      "        self.train_func = theano.function([self._get_input_symbol()],", 
      "                                           self._get_cost_symbol(),", 
      "                                           updates=self.updates_symbol)", 
      "        self.eval_func = theano.function([self._get_input_symbol()],", 
      "                                         self._get_cost_symbol())", 
      "        self.prediction_func = theano.function([self._get_input_symbol()],", 
      "                                          self._get_output_symbol())", 
      "    def _get_input_symbol(self):", 
      "        return self.input.output()", 
      "    ", 
      "    def _get_output_symbol(self):", 
      "        return self.layer8.output()", 
      "    ", 
      "    def _get_cost_symbol(self):", 
      "        input = self._get_input_symbol()", 
      "        output = self._get_output_symbol()", 
      "        cost = T.sum((output - input) ** 2)/128", 
      "        return cost", 
      "", 
      "    def _get_output_layer(self):", 
      "        return self.layer8", 
      "    ", 
      "    def train(self, batch):", 
      "        return self.train_func(batch)", 
      "    ", 
      "    def eval(self, batch):", 
      "        return self.eval_func(batch)", 
      "", 
      "    def prediction(self, batch):", 
      "        return self.prediction_func(batch)"
     ], 
     "language": "python", 
     "outputs": [], 
     "prompt_number": 24
    }, 
    {
     "cell_type": "code", 
     "collapsed": false, 
     "input": [
      "model = Model('test','/experiments/results/mnist-dense-orthogonal')", 
      "monitor = util.Monitor(model)", 
      "", 
      "train_dataset = mnist.MNIST('train', center=True)", 
      "train_iterator = train_dataset.iterator(mode='random_uniform', batch_size=128, num_batches=100000)", 
      "", 
      "# Orthogonalize weights", 
      "w1 = orthogonalize(model.layer1.W.get_value())", 
      "model.layer1.W.set_value(w1)", 
      "w2 = orthogonalize(model.layer2.W.get_value())", 
      "model.layer2.W.set_value(w2)", 
      "w3 = orthogonalize(model.layer3.W.get_value())", 
      "model.layer3.W.set_value(w3)", 
      "w4 = orthogonalize(model.layer4.W.get_value())", 
      "model.layer4.W.set_value(w4)", 
      "model.layer5.W.set_value(w4.T)", 
      "model.layer6.W.set_value(w3.T)", 
      "model.layer7.W.set_value(w2.T)", 
      "model.layer8.W.set_value(w1.T)"
     ], 
     "language": "python", 
     "outputs": [], 
     "prompt_number": 25
    }, 
    {
     "cell_type": "code", 
     "collapsed": false, 
     "input": [
      "batch = train_iterator.next()", 
      "model.eval(batch)"
     ], 
     "language": "python", 
     "outputs": [
      {
       "output_type": "pyout", 
       "prompt_number": 26, 
       "text": [
        "array(3.4550324840704194e-12, dtype=float32)"
       ]
      }
     ], 
     "prompt_number": 26
    }, 
    {
     "cell_type": "code", 
     "collapsed": true, 
     "input": [
      "x_hat = model.prediction(batch)", 
      "i = numpy.random.randint(128)", 
      "input = batch[i,:].reshape(28,28)", 
      "recon = x_hat[i,:].reshape(28,28)", 
      "imag = numpy.hstack((input, recon))", 
      "pyplot.imshow(imag)", 
      "pyplot.show()"
     ], 
     "language": "python", 
     "outputs": [], 
     "prompt_number": 34
    }, 
    {
     "cell_type": "code", 
     "collapsed": false, 
     "input": [
      "500*len(numpy.arange(0.0, 1.0, 0.01))"
     ], 
     "language": "python", 
     "outputs": [
      {
       "output_type": "pyout", 
       "prompt_number": 29, 
       "text": [
        "50000"
       ]
      }
     ], 
     "prompt_number": 29
    }, 
    {
     "cell_type": "code", 
     "collapsed": false, 
     "input": [
      "count = 0", 
      "alpha = 0.0", 
      "model.learning_rate_symbol.set_value(0.01)", 
      "for batch in train_iterator:", 
      "        if count % 500 == 0:", 
      "            alpha += 0.01", 
      "            if alpha > 1.0:", 
      "                alpha = 1.0", 
      "            model.layer1.alpha.set_value(alpha)", 
      "            model.layer2.alpha.set_value(alpha)", 
      "            model.layer3.alpha.set_value(alpha)", 
      "            model.layer4.alpha.set_value(alpha)", 
      "            print 'alpha set to %0.3f' % alpha", 
      "        monitor.start()", 
      "        error = model.train(batch)", 
      "        monitor.stop(error)", 
      "        count += 1"
     ], 
     "language": "python", 
     "outputs": [
      {
       "output_type": "stream", 
       "stream": "stdout", 
       "text": [
        "alpha set to 0.010", 
        "*0, train error: 0.014, time: 0.42"
       ]
      }, 
      {
       "output_type": "stream", 
       "stream": "stdout", 
       "text": [
        "", 
        "Saving model checkpoint to: /experiments/results/mnist-dense-orthogonal/test-09m-11d-22h-35m-53s.pkl", 
        "0, train error: 0.014, time: 0.42"
       ]
      }, 
      {
       "output_type": "stream", 
       "stream": "stdout", 
       "text": [
        "", 
        "10, train error: 0.009, time: 0.53"
       ]
      }, 
      {
       "output_type": "stream", 
       "stream": "stdout", 
       "text": [
        "", 
        "20, train error: 0.005, time: 0.53"
       ]
      }, 
      {
       "output_type": "stream", 
       "stream": "stdout", 
       "text": [
        "", 
        "30, train error: 0.004, time: 0.53"
       ]
      }, 
      {
       "output_type": "stream", 
       "stream": "stdout", 
       "text": [
        "", 
        "40, train error: 0.003, time: 0.53"
       ]
      }, 
      {
       "output_type": "stream", 
       "stream": "stdout", 
       "text": [
        "", 
        "*50, train error: 0.005, time: 0.53"
       ]
      }, 
      {
       "output_type": "stream", 
       "stream": "stdout", 
       "text": [
        "", 
        "Saving model checkpoint to: /experiments/results/mnist-dense-orthogonal/test-09m-11d-22h-36m-22s.pkl", 
        "50, train error: 0.003, time: 0.53"
       ]
      }, 
      {
       "output_type": "stream", 
       "stream": "stdout", 
       "text": [
        "", 
        "60, train error: 0.003, time: 0.53"
       ]
      }, 
      {
       "output_type": "stream", 
       "stream": "stdout", 
       "text": [
        "", 
        "70, train error: 0.003, time: 0.53"
       ]
      }, 
      {
       "output_type": "stream", 
       "stream": "stdout", 
       "text": [
        "", 
        "80, train error: 0.003, time: 0.53"
       ]
      }, 
      {
       "output_type": "stream", 
       "stream": "stdout", 
       "text": [
        "", 
        "90, train error: 0.002, time: 0.53"
       ]
      }, 
      {
       "output_type": "stream", 
       "stream": "stdout", 
       "text": [
        "", 
        "*100, train error: 0.003, time: 0.53"
       ]
      }, 
      {
       "output_type": "stream", 
       "stream": "stdout", 
       "text": [
        "", 
        "Saving model checkpoint to: /experiments/results/mnist-dense-orthogonal/test-09m-11d-22h-36m-51s.pkl", 
        "100, train error: 0.002, time: 0.53"
       ]
      }, 
      {
       "output_type": "stream", 
       "stream": "stdout", 
       "text": [
        "", 
        "110, train error: 0.002, time: 0.53"
       ]
      }, 
      {
       "ename": "KeyboardInterrupt", 
       "evalue": "", 
       "output_type": "pyerr", 
       "traceback": [
        "\u001b[0;31m---------------------------------------------------------------------------\u001b[0m\n\u001b[0;31mKeyboardInterrupt\u001b[0m                         Traceback (most recent call last)", 
        "\u001b[0;32m/home/paine1/unsupervised_experiments/<ipython-input-28-e3c2ac0b03eb>\u001b[0m in \u001b[0;36m<module>\u001b[0;34m()\u001b[0m\n\u001b[1;32m     13\u001b[0m             \u001b[0;32mprint\u001b[0m \u001b[0;34m'alpha set to %0.3f'\u001b[0m \u001b[0;34m%\u001b[0m \u001b[0malpha\u001b[0m\u001b[0;34m\u001b[0m\u001b[0m\n\u001b[1;32m     14\u001b[0m         \u001b[0mmonitor\u001b[0m\u001b[0;34m.\u001b[0m\u001b[0mstart\u001b[0m\u001b[0;34m(\u001b[0m\u001b[0;34m)\u001b[0m\u001b[0;34m\u001b[0m\u001b[0m\n\u001b[0;32m---> 15\u001b[0;31m         \u001b[0merror\u001b[0m \u001b[0;34m=\u001b[0m \u001b[0mmodel\u001b[0m\u001b[0;34m.\u001b[0m\u001b[0mtrain\u001b[0m\u001b[0;34m(\u001b[0m\u001b[0mbatch\u001b[0m\u001b[0;34m)\u001b[0m\u001b[0;34m\u001b[0m\u001b[0m\n\u001b[0m\u001b[1;32m     16\u001b[0m         \u001b[0mmonitor\u001b[0m\u001b[0;34m.\u001b[0m\u001b[0mstop\u001b[0m\u001b[0;34m(\u001b[0m\u001b[0merror\u001b[0m\u001b[0;34m)\u001b[0m\u001b[0;34m\u001b[0m\u001b[0m\n\u001b[1;32m     17\u001b[0m         \u001b[0mcount\u001b[0m \u001b[0;34m+=\u001b[0m \u001b[0;36m1\u001b[0m\u001b[0;34m\u001b[0m\u001b[0m\n", 
        "\u001b[0;32m/home/paine1/unsupervised_experiments/<ipython-input-24-c043ee94a153>\u001b[0m in \u001b[0;36mtrain\u001b[0;34m(self, batch)\u001b[0m\n\u001b[1;32m     75\u001b[0m \u001b[0;34m\u001b[0m\u001b[0m\n\u001b[1;32m     76\u001b[0m     \u001b[0;32mdef\u001b[0m \u001b[0mtrain\u001b[0m\u001b[0;34m(\u001b[0m\u001b[0mself\u001b[0m\u001b[0;34m,\u001b[0m \u001b[0mbatch\u001b[0m\u001b[0;34m)\u001b[0m\u001b[0;34m:\u001b[0m\u001b[0;34m\u001b[0m\u001b[0m\n\u001b[0;32m---> 77\u001b[0;31m         \u001b[0;32mreturn\u001b[0m \u001b[0mself\u001b[0m\u001b[0;34m.\u001b[0m\u001b[0mtrain_func\u001b[0m\u001b[0;34m(\u001b[0m\u001b[0mbatch\u001b[0m\u001b[0;34m)\u001b[0m\u001b[0;34m\u001b[0m\u001b[0m\n\u001b[0m\u001b[1;32m     78\u001b[0m \u001b[0;34m\u001b[0m\u001b[0m\n\u001b[1;32m     79\u001b[0m     \u001b[0;32mdef\u001b[0m \u001b[0meval\u001b[0m\u001b[0;34m(\u001b[0m\u001b[0mself\u001b[0m\u001b[0;34m,\u001b[0m \u001b[0mbatch\u001b[0m\u001b[0;34m)\u001b[0m\u001b[0;34m:\u001b[0m\u001b[0;34m\u001b[0m\u001b[0m\n", 
        "\u001b[0;32m/home/paine1/Theano/theano/compile/function_module.pyc\u001b[0m in \u001b[0;36m__call__\u001b[0;34m(self, *args, **kwargs)\u001b[0m\n\u001b[1;32m    577\u001b[0m         \u001b[0mt0_fn\u001b[0m \u001b[0;34m=\u001b[0m \u001b[0mtime\u001b[0m\u001b[0;34m.\u001b[0m\u001b[0mtime\u001b[0m\u001b[0;34m(\u001b[0m\u001b[0;34m)\u001b[0m\u001b[0;34m\u001b[0m\u001b[0m\n\u001b[1;32m    578\u001b[0m         \u001b[0;32mtry\u001b[0m\u001b[0;34m:\u001b[0m\u001b[0;34m\u001b[0m\u001b[0m\n\u001b[0;32m--> 579\u001b[0;31m             \u001b[0moutputs\u001b[0m \u001b[0;34m=\u001b[0m \u001b[0mself\u001b[0m\u001b[0;34m.\u001b[0m\u001b[0mfn\u001b[0m\u001b[0;34m(\u001b[0m\u001b[0;34m)\u001b[0m\u001b[0;34m\u001b[0m\u001b[0m\n\u001b[0m\u001b[1;32m    580\u001b[0m         \u001b[0;32mexcept\u001b[0m \u001b[0mException\u001b[0m\u001b[0;34m:\u001b[0m\u001b[0;34m\u001b[0m\u001b[0m\n\u001b[1;32m    581\u001b[0m             \u001b[0;32mif\u001b[0m \u001b[0mhasattr\u001b[0m\u001b[0;34m(\u001b[0m\u001b[0mself\u001b[0m\u001b[0;34m.\u001b[0m\u001b[0mfn\u001b[0m\u001b[0;34m,\u001b[0m \u001b[0;34m'position_of_error'\u001b[0m\u001b[0;34m)\u001b[0m\u001b[0;34m:\u001b[0m\u001b[0;34m\u001b[0m\u001b[0m\n", 
        "\u001b[0;31mKeyboardInterrupt\u001b[0m: "
       ]
      }, 
      {
       "output_type": "stream", 
       "stream": "stdout", 
       "text": [
        ""
       ]
      }
     ], 
     "prompt_number": 28
    }, 
    {
     "cell_type": "code", 
     "collapsed": false, 
     "input": [
      "batch = train_iterator.next()", 
      "for alpha in numpy.arange(0.0, 0.26, 0.01,dtype=numpy.float32):", 
      "    model.layer1.alpha.set_value(alpha)", 
      "    model.layer2.alpha.set_value(alpha)", 
      "    model.layer3.alpha.set_value(alpha)", 
      "    model.layer4.alpha.set_value(alpha)", 
      "    model.layer5.alpha.set_value(alpha)", 
      "    model.layer6.alpha.set_value(alpha)", 
      "    model.layer7.alpha.set_value(alpha)    ", 
      "    model.layer8.alpha.set_value(alpha)", 
      "    print 'alpha: %0.3f, error: %0.3f' % (alpha, model.eval(batch))"
     ], 
     "language": "python", 
     "outputs": [
      {
       "output_type": "stream", 
       "stream": "stdout", 
       "text": [
        "alpha: 0.000, error: 0.000", 
        "alpha: 0.010, error: 0.005"
       ]
      }, 
      {
       "output_type": "stream", 
       "stream": "stdout", 
       "text": [
        "", 
        "alpha: 0.020, error: 0.029"
       ]
      }, 
      {
       "output_type": "stream", 
       "stream": "stdout", 
       "text": [
        "", 
        "alpha: 0.030, error: 0.087"
       ]
      }, 
      {
       "output_type": "stream", 
       "stream": "stdout", 
       "text": [
        "", 
        "alpha: 0.040, error: 0.196"
       ]
      }, 
      {
       "output_type": "stream", 
       "stream": "stdout", 
       "text": [
        "", 
        "alpha: 0.050, error: 0.377"
       ]
      }, 
      {
       "output_type": "stream", 
       "stream": "stdout", 
       "text": [
        "", 
        "alpha: 0.060, error: 0.659"
       ]
      }, 
      {
       "output_type": "stream", 
       "stream": "stdout", 
       "text": [
        "", 
        "alpha: 0.070, error: 1.054"
       ]
      }, 
      {
       "output_type": "stream", 
       "stream": "stdout", 
       "text": [
        "", 
        "alpha: 0.080, error: 1.607"
       ]
      }, 
      {
       "output_type": "stream", 
       "stream": "stdout", 
       "text": [
        "", 
        "alpha: 0.090, error: 2.323"
       ]
      }, 
      {
       "output_type": "stream", 
       "stream": "stdout", 
       "text": [
        "", 
        "alpha: 0.100, error: 3.281"
       ]
      }, 
      {
       "output_type": "stream", 
       "stream": "stdout", 
       "text": [
        "", 
        "alpha: 0.110, error: 4.562"
       ]
      }, 
      {
       "output_type": "stream", 
       "stream": "stdout", 
       "text": [
        "", 
        "alpha: 0.120, error: 5.979"
       ]
      }, 
      {
       "output_type": "stream", 
       "stream": "stdout", 
       "text": [
        "", 
        "alpha: 0.130, error: 7.954"
       ]
      }, 
      {
       "output_type": "stream", 
       "stream": "stdout", 
       "text": [
        "", 
        "alpha: 0.140, error: 10.409"
       ]
      }, 
      {
       "output_type": "stream", 
       "stream": "stdout", 
       "text": [
        "", 
        "alpha: 0.150, error: 13.345"
       ]
      }, 
      {
       "output_type": "stream", 
       "stream": "stdout", 
       "text": [
        "", 
        "alpha: 0.160, error: 17.259"
       ]
      }, 
      {
       "output_type": "stream", 
       "stream": "stdout", 
       "text": [
        "", 
        "alpha: 0.170, error: 22.056"
       ]
      }, 
      {
       "output_type": "stream", 
       "stream": "stdout", 
       "text": [
        "", 
        "alpha: 0.180, error: 27.613"
       ]
      }, 
      {
       "output_type": "stream", 
       "stream": "stdout", 
       "text": [
        "", 
        "alpha: 0.190, error: 33.228"
       ]
      }, 
      {
       "output_type": "stream", 
       "stream": "stdout", 
       "text": [
        "", 
        "alpha: 0.200, error: 37.906"
       ]
      }, 
      {
       "output_type": "stream", 
       "stream": "stdout", 
       "text": [
        "", 
        "alpha: 0.210, error: 41.881"
       ]
      }, 
      {
       "output_type": "stream", 
       "stream": "stdout", 
       "text": [
        "", 
        "alpha: 0.220, error: 44.746"
       ]
      }, 
      {
       "output_type": "stream", 
       "stream": "stdout", 
       "text": [
        "", 
        "alpha: 0.230, error: 46.979"
       ]
      }, 
      {
       "output_type": "stream", 
       "stream": "stdout", 
       "text": [
        "", 
        "alpha: 0.240, error: 48.804"
       ]
      }, 
      {
       "output_type": "stream", 
       "stream": "stdout", 
       "text": [
        "", 
        "alpha: 0.250, error: 50.166"
       ]
      }, 
      {
       "output_type": "stream", 
       "stream": "stdout", 
       "text": [
        ""
       ]
      }
     ], 
     "prompt_number": 6
    }, 
    {
     "cell_type": "code", 
     "collapsed": true, 
     "input": [], 
     "language": "python", 
     "outputs": []
    }
   ]
  }
 ]
}