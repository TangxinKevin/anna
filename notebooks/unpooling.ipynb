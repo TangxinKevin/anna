{
 "metadata": {
  "name": "unpooling"
 }, 
 "nbformat": 2, 
 "worksheets": [
  {
   "cells": [
    {
     "cell_type": "code", 
     "collapsed": true, 
     "input": [
      "import numpy", 
      "import matplotlib.pyplot as pyplot", 
      "", 
      "import theano.tensor as T", 
      "import theano", 
      "from theano.sandbox.cuda.basic_ops import gpu_contiguous", 
      "import pylearn2.sandbox.cuda_convnet.pool as pool", 
      "from pylearn2.sandbox.cuda_convnet.filter_acts import FilterActs", 
      "from pylearn2.sandbox.cuda_convnet.img_acts import ImageActs", 
      "", 
      "import datasets.unsupervised_dataset as unsupervised_dataset", 
      "", 
      "from layers import cc_layers", 
      "", 
      "def find_switches(max_val, image_patch, recon_patch, count_patch):", 
      "    #max_val = numpy.max(image_patch)", 
      "    switches = image_patch == max_val", 
      "    recon_patch += image_patch*switches", 
      "    count_patch += switches", 
      "    ", 
      "def sexy_unpool(image, image_pool, stride=1):", 
      "    ds = 3", 
      "    image_size = image.shape[0]", 
      "    recon = numpy.zeros(image.shape)", 
      "    count = numpy.zeros(image.shape)", 
      "    j_x = -1", 
      "    for i_x in range(0, image_size-ds+1, stride):", 
      "        j_x += 1", 
      "        j_y = -1", 
      "        for i_y in range(0, image_size-ds+1, stride):", 
      "            j_y += 1", 
      "            x_slice = slice(i_x, i_x+ds)", 
      "            y_slice = slice(i_y, i_y+ds)", 
      "            image_patch = image[x_slice, y_slice]", 
      "            recon_patch = recon[x_slice, y_slice]", 
      "            count_patch = count[x_slice, y_slice]", 
      "            max_val = image_pool[j_x, j_y]", 
      "            find_switches(max_val, image_patch, recon_patch, count_patch)", 
      "    count[count==0]=1", 
      "    return recon/count", 
      "", 
      "def orthogonalize(w):", 
      "    # Orthogonalize square matrices.", 
      "    # Or left orthogonalize overcomplete matrices.", 
      "    # Simply gets an SVD decomposition, and sets the singular values to ones.", 
      "    dim2, dim1 = w.shape", 
      "    short = numpy.min((dim2, dim1))", 
      "    u, s, v = numpy.linalg.svd(w)", 
      "    S = numpy.zeros((dim2,dim1))", 
      "    s = s/s", 
      "    S[:short,:short] = numpy.diag(s)", 
      "    w = numpy.dot(u,numpy.dot(S,v))", 
      "    w = numpy.float32(w)", 
      "    return w", 
      "", 
      "def conv_orthogonalize(w, k=1.05):", 
      "    # Reshape filters into a matrix", 
      "    channels, width, height, filters = w.shape", 
      "    w = w.reshape(channels*width*height, filters).transpose(1,0)", 
      "", 
      "    # Orthogonalize the matrix", 
      "    w = orthogonalize(w)", 
      "", 
      "    # Contruct 2D hamming window", 
      "    hamming1 = numpy.hamming(width)", 
      "    hamming2 = numpy.hamming(height)", 
      "    hamming = numpy.outer(hamming1, hamming2)", 
      "", 
      "    # Use it to mask the input to w", 
      "    mask = numpy.tile(hamming[None,:,:], (channels,1,1))", 
      "    mask = mask.reshape(channels*width*height)*k", 
      "    m = numpy.diag(mask)", 
      "    w = numpy.dot(w, m)", 
      "", 
      "    # Reshape the matrix into filters", 
      "    w = w.transpose(1,0)", 
      "    w =  w.reshape(channels, width, height, filters)", 
      "    w = numpy.float32(w)", 
      "    return w", 
      "", 
      "def get_image(batch, i):", 
      "    image = numpy.uint8(batch[:,:,:,i].transpose(1,2,0)/2.0*255.0)", 
      "    return image"
     ], 
     "language": "python", 
     "outputs": [], 
     "prompt_number": 1
    }, 
    {
     "cell_type": "code", 
     "collapsed": true, 
     "input": [
      "data = numpy.load('/data/stl10_matlab/unsupervised.npy')", 
      "test_data = numpy.float32(data[0:128, :, :, :])", 
      "test_data /= 255.0", 
      "test_data *= 2.0"
     ], 
     "language": "python", 
     "outputs": [], 
     "prompt_number": 2
    }, 
    {
     "cell_type": "code", 
     "collapsed": false, 
     "input": [
      "input = test_data.transpose(1,2,3,0)", 
      "#input = numpy.tile(input[0,:,:,:][None, :, :, :], (16, 1, 1, 1))", 
      "print input.shape"
     ], 
     "language": "python", 
     "outputs": [
      {
       "output_type": "stream", 
       "stream": "stdout", 
       "text": [
        "(3, 96, 96, 128)"
       ]
      }
     ], 
     "prompt_number": 12
    }, 
    {
     "cell_type": "code", 
     "collapsed": false, 
     "input": [
      "# Theano symbolic functions to do pooling and unpooling", 
      "input_symbol = T.ftensor4(name='input')", 
      "gpu_input_symbol = gpu_contiguous(input_symbol)", 
      "filter_symbol = T.ftensor4(name='filter')", 
      "gpu_filter_symbol = gpu_contiguous(filter_symbol)", 
      "gz_symbol = T.ftensor4(name='gz')", 
      "", 
      "# Make ops", 
      "pool_stride = 3", 
      "pool_op = pool.MaxPool(3,pool_stride)", 
      "unpool_op = pool.MaxPoolGrad(3,pool_stride,0)", 
      "", 
      "conv_stride = 1", 
      "conv_op = FilterActs(stride=conv_stride, partial_sum=False, pad=1)", 
      "deconv_op = ImageActs(stride=conv_stride, partial_sum=False, pad=1)", 
      "", 
      "# Make symbolic expressions", 
      "conv_symbol = conv_op(gpu_input_symbol, gpu_filter_symbol)", 
      "pool_symbol = pool_op(conv_symbol)", 
      "unpool_symbol = unpool_op(conv_symbol, pool_symbol, pool_symbol)", 
      "pool_symbol2 = pool_op(unpool_symbol)", 
      "#deconv_symbol = deconv_op(unpool_symbol, gpu_filter_symbol)", 
      "", 
      "#conv_func = theano.function([input_symbol, filter_symbol], conv_symbol)", 
      "pool_func = theano.function([input_symbol, filter_symbol], pool_symbol)", 
      "pool_func2 = theano.function([input_symbol, filter_symbol], pool_symbol2)", 
      "#unpool_func = theano.function([input_symbol, filter_symbol], unpool_symbol)", 
      "#recon_func = theano.function([input_symbol, filter_symbol], deconv_symbol)"
     ], 
     "language": "python", 
     "outputs": [], 
     "prompt_number": 24
    }, 
    {
     "cell_type": "code", 
     "collapsed": false, 
     "input": [
      "filter = numpy.float32(numpy.random.randn(3,3,3,64))", 
      "filter = conv_orthogonalize(filter)", 
      "#image_conv = conv_func(input, filter)", 
      "image_pool = pool_func(input, filter)", 
      "image_pool2 = pool_func2(input, filter)", 
      "#image_unpool = unpool_func(input, filter)", 
      "#image_recon = recon_func(input, filter)", 
      "#print image_recon.shape", 
      "print image_pool.shape", 
      "print image_pool2.shape"
     ], 
     "language": "python", 
     "outputs": [
      {
       "output_type": "stream", 
       "stream": "stdout", 
       "text": [
        "(64, 32, 32, 128)", 
        "(64, 32, 32, 128)"
       ]
      }
     ], 
     "prompt_number": 28
    }, 
    {
     "cell_type": "code", 
     "collapsed": false, 
     "input": [], 
     "language": "python", 
     "outputs": [
      {
       "output_type": "pyout", 
       "prompt_number": 36, 
       "text": [
        "-1.0055534"
       ]
      }
     ], 
     "prompt_number": 36
    }, 
    {
     "cell_type": "code", 
     "collapsed": false, 
     "input": [
      "image1 = numpy.array(image_pool[2,:,:,0])", 
      "image2 = numpy.array(image_pool2[2,:,:,0])", 
      "", 
      "max1 = numpy.max(image1)", 
      "max2 = numpy.max(image2)", 
      "vmax = numpy.max((max1, max2))", 
      "min1 = numpy.min(image1)", 
      "min2 = numpy.min(image2)", 
      "vmin = numpy.min((min1, min2))", 
      "", 
      "pyplot.subplot(1,2,1)", 
      "pyplot.imshow(image1, vmax=max1, vmin=min1)", 
      "pyplot.colorbar()", 
      "", 
      "pyplot.subplot(1,2,2)", 
      "pyplot.imshow(image2, vmax=max2, vmin=min2)", 
      "pyplot.colorbar()", 
      "pyplot.show()"
     ], 
     "language": "python", 
     "outputs": [], 
     "prompt_number": 38
    }, 
    {
     "cell_type": "code", 
     "collapsed": true, 
     "input": [
      "image1 = get_image(numpy.array(input[0:3,:,:,:]), 0)", 
      "image2 = get_image(numpy.array(image_recon[0:3,:,:,:]), 0)", 
      "#image = image_conv[0,:,:,0]", 
      "#pyplot.imshow(image, interpolation='nearest')", 
      "#pyplot.show()", 
      "", 
      "#image = image_unpool[0,:,:,0]", 
      "#pyplot.imshow(image, interpolation='nearest')", 
      "#pyplot.show()", 
      "pyplot.subplot(1,2,1)", 
      "pyplot.imshow(image1, interpolation='nearest')", 
      "pyplot.subplot(1,2,2)pyplot.imshow(image2, interpolation='nearest')", 
      "pyplot.show()"
     ], 
     "language": "python", 
     "outputs": [], 
     "prompt_number": 299
    }, 
    {
     "cell_type": "code", 
     "collapsed": true, 
     "input": [
      "# Generate pooling and unpooling results", 
      "pool_out = pool_func(input)", 
      "recon = unpool_func(input)"
     ], 
     "language": "python", 
     "outputs": [], 
     "prompt_number": 221
    }, 
    {
     "cell_type": "code", 
     "collapsed": true, 
     "input": [
      "# Display recon example", 
      "i = numpy.random.randint(128)", 
      "image = input[0,:,:,i]", 
      "image_pool = pool_out[0,:,:,i]", 
      "image_unpool = sexy_unpool(image, image_pool, stride=stride)", 
      "cmin = numpy.min(image)", 
      "cmax = numpy.max(image)", 
      "pyplot.subplot(2,2,1)", 
      "pyplot.imshow(input[0,:,:,i], interpolation='nearest', vmax=cmax, vmin=cmin)", 
      "pyplot.colorbar()", 
      "pyplot.subplot(2,2,2)", 
      "pyplot.imshow(pool_out[0,:,:,i], interpolation='nearest', vmax=cmax, vmin=cmin)", 
      "pyplot.colorbar()", 
      "pyplot.subplot(2,2,3)", 
      "pyplot.imshow(recon[0,:,:,i], interpolation='nearest', vmax=cmax, vmin=cmin)", 
      "pyplot.colorbar()", 
      "pyplot.subplot(2,2,4)", 
      "pyplot.imshow(image_unpool, interpolation='nearest', vmax=cmax, vmin=cmin)", 
      "pyplot.colorbar()", 
      "pyplot.show()"
     ], 
     "language": "python", 
     "outputs": [], 
     "prompt_number": 226
    }
   ]
  }
 ]
}