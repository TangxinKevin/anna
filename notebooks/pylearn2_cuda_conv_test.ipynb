{
 "metadata": {
  "name": "pylearn2_cuda_conv_test"
 }, 
 "nbformat": 2, 
 "worksheets": [
  {
   "cells": [
    {
     "cell_type": "code", 
     "collapsed": false, 
     "input": [
      "import numpy", 
      "", 
      "import theano", 
      "import theano.tensor as T", 
      "from theano.sandbox.cuda.basic_ops import gpu_contiguous", 
      "", 
      "from pylearn2.sandbox.cuda_convnet.filter_acts import FilterActs", 
      "from pylearn2.sandbox.cuda_convnet.filter_acts import ImageActs"
     ], 
     "language": "python", 
     "outputs": [], 
     "prompt_number": 8
    }, 
    {
     "cell_type": "code", 
     "collapsed": true, 
     "input": [
      "filter_acts_op = FilterActs()", 
      "image_acts_op = ImageActs()"
     ], 
     "language": "python", 
     "outputs": [], 
     "prompt_number": 2
    }, 
    {
     "cell_type": "code", 
     "collapsed": true, 
     "input": [
      "input = T.ftensor4(name='input')", 
      "filters = T.ftensor4(name='filters')", 
      "filters2 = T.ftensor4(name='filters2')", 
      "output = T.ftensor4(name='output')"
     ], 
     "language": "python", 
     "outputs": [], 
     "prompt_number": 44
    }, 
    {
     "cell_type": "code", 
     "collapsed": false, 
     "input": [
      "gpu_input = gpu_contiguous(input)", 
      "gpu_filters = gpu_contiguous(filters)", 
      "gpu_filters2 = gpu_contiguous(filters2)", 
      "gpu_output = gpu_contiguous(output)", 
      "", 
      "layer1 = filter_acts_op(gpu_input, gpu_filters)", 
      "layer2 = filter_acts_op(layer1, gpu_filters2)", 
      "", 
      "dlayer2 = image_acts_op(gpu_output, gpu_filters2)", 
      "dlayer1 = image_acts_op(dlayer2, gpu_filters)"
     ], 
     "language": "python", 
     "outputs": [], 
     "prompt_number": 52
    }, 
    {
     "cell_type": "code", 
     "collapsed": false, 
     "input": [
      "f = theano.function([input, filters, filters2], layer2)", 
      "df = theano.function([output, filters, filters2], dlayer1)"
     ], 
     "language": "python", 
     "outputs": [], 
     "prompt_number": 53
    }, 
    {
     "cell_type": "code", 
     "collapsed": false, 
     "input": [
      "# input channels, rows, cols, batch_size", 
      "x = numpy.zeros((3, 100, 100, 128),dtype=numpy.float32)", 
      "# input channels, filter rows, filter cols, output channels", 
      "w = numpy.zeros((3, 5, 5, 16),dtype=numpy.float32)", 
      "w2 = numpy.zeros((16, 5, 5, 16),dtype=numpy.float32)"
     ], 
     "language": "python", 
     "outputs": [], 
     "prompt_number": 57
    }, 
    {
     "cell_type": "code", 
     "collapsed": false, 
     "input": [
      "o = f(x,w,w2)"
     ], 
     "language": "python", 
     "outputs": [], 
     "prompt_number": 58
    }, 
    {
     "cell_type": "code", 
     "collapsed": false, 
     "input": [
      "o.shape"
     ], 
     "language": "python", 
     "outputs": [
      {
       "output_type": "pyout", 
       "prompt_number": 59, 
       "text": [
        "(16, 92, 92, 128)"
       ]
      }
     ], 
     "prompt_number": 59
    }, 
    {
     "cell_type": "code", 
     "collapsed": true, 
     "input": [
      "xhat = df(o,w,w2)"
     ], 
     "language": "python", 
     "outputs": [], 
     "prompt_number": 60
    }, 
    {
     "cell_type": "code", 
     "collapsed": false, 
     "input": [
      "xhat.shape"
     ], 
     "language": "python", 
     "outputs": [
      {
       "output_type": "pyout", 
       "prompt_number": 61, 
       "text": [
        "(3, 100, 100, 128)"
       ]
      }
     ], 
     "prompt_number": 61
    }, 
    {
     "cell_type": "code", 
     "collapsed": true, 
     "input": [
      "X = [1,2,3]"
     ], 
     "language": "python", 
     "outputs": [], 
     "prompt_number": 63
    }, 
    {
     "cell_type": "code", 
     "collapsed": false, 
     "input": [
      "X+[3,4]"
     ], 
     "language": "python", 
     "outputs": [
      {
       "output_type": "pyout", 
       "prompt_number": 64, 
       "text": [
        "[1, 2, 3, 3, 4]"
       ]
      }
     ], 
     "prompt_number": 64
    }, 
    {
     "cell_type": "code", 
     "collapsed": true, 
     "input": [
      "", 
      "", 
      "", 
      "# cost function for later: error = T.mean((predictions - self.target_var) ** 2)"
     ], 
     "language": "python", 
     "outputs": []
    }
   ]
  }
 ]
}