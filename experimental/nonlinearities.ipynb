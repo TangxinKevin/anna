{
 "metadata": {
  "name": "nonlinearities"
 }, 
 "nbformat": 2, 
 "worksheets": [
  {
   "cells": [
    {
     "cell_type": "code", 
     "collapsed": true, 
     "input": [
      "def linear(x):", 
      "    return x"
     ], 
     "language": "python", 
     "outputs": [], 
     "prompt_number": 1
    }, 
    {
     "cell_type": "code", 
     "collapsed": true, 
     "input": [
      "def relu(x):", 
      "    return numpy.max(x,0)"
     ], 
     "language": "python", 
     "outputs": [], 
     "prompt_number": 2
    }, 
    {
     "cell_type": "code", 
     "collapsed": true, 
     "input": [
      "import numpy", 
      "import matplotlib.pyplot as pyplot", 
      "import theano.tensor as T", 
      "import theano"
     ], 
     "language": "python", 
     "outputs": [], 
     "prompt_number": 22
    }, 
    {
     "cell_type": "code", 
     "collapsed": true, 
     "input": [
      "x = numpy.arange(-1.0, 1.0, 0.05)"
     ], 
     "language": "python", 
     "outputs": [], 
     "prompt_number": 11
    }, 
    {
     "cell_type": "code", 
     "collapsed": false, 
     "input": [
      "x = T.fvector(name='x')", 
      "a = T.fscalar(name='alpha')", 
      "", 
      "relu = T.maximum(x,0)", 
      "relu_func = theano.function([x],relu)", 
      "", 
      "a_relu = a*x + (1-a)*relu", 
      "a_relu_func = theano.function([x, a], a_relu)", 
      "", 
      "trec = x*(T.abs_(x)>0.2)", 
      "trec_func = theano.function([x], trec)", 
      "", 
      "a_trec = x*(T.abs_(x)>a)", 
      "a_trec_func = theano.function([x, a], a_trec)"
     ], 
     "language": "python", 
     "outputs": [], 
     "prompt_number": 40
    }, 
    {
     "cell_type": "code", 
     "collapsed": false, 
     "input": [
      "x = numpy.arange(-1.0, 1.0, 0.05)", 
      "x = x.astype(numpy.float32)", 
      "y = relu_func(x)", 
      "for i in linspace(0.0, 1.0, 10):", 
      "    #a_y = a_relu_func(x, numpy.float32(i))", 
      "    a_y = a_trec_func(x, numpy.float32(i))", 
      "    pyplot.plot(x, a_y)", 
      "    #pyplot.plot(x, z)"
     ], 
     "language": "python", 
     "outputs": [], 
     "prompt_number": 41
    }
   ]
  }
 ]
}