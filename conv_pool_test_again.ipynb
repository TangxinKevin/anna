{
 "metadata": {
  "name": "conv_pool_test_again"
 }, 
 "nbformat": 2, 
 "worksheets": [
  {
   "cells": [
    {
     "cell_type": "code", 
     "collapsed": false, 
     "input": [
      "import os", 
      "import numpy", 
      "from matplotlib import pyplot", 
      "import theano", 
      "import theano.tensor as T  #TODO(tpaine) remove this dependency, can be done by factoring out the cost theano equation", 
      "theano.config.floatX = 'float32'", 
      "", 
      "from fastor.layers import layers, cc_layers", 
      "from fastor import util", 
      "", 
      "def rescale(data):", 
      "    data = data/2.0*255.0", 
      "    data[data > 255.0] = 255.0", 
      "    return data", 
      "", 
      "def orthogonalize(w):", 
      "    # Orthogonalize square matrices.", 
      "    # Or left orthogonalize overcomplete matrices.", 
      "    # Simply gets an SVD decomposition, and sets the singular values to ones.", 
      "    dim2, dim1 = w.shape", 
      "    short = numpy.min((dim2, dim1))", 
      "    u, s, v = numpy.linalg.svd(w)", 
      "    S = numpy.zeros((dim2,dim1))", 
      "    s = s/s", 
      "    S[:short,:short] = numpy.diag(s)", 
      "    w = numpy.dot(u,numpy.dot(S,v))", 
      "    w = numpy.float32(w)", 
      "    return w", 
      "", 
      "def conv_orthogonalize(w, k=1.05):", 
      "    # Reshape filters into a matrix", 
      "    channels, width, height, filters = w.shape", 
      "    w = w.reshape(channels*width*height, filters).transpose(1,0)", 
      "", 
      "    # Orthogonalize the matrix", 
      "    #w = orthogonalize(w)", 
      "", 
      "    # Contruct 2D hamming window", 
      "    hamming1 = numpy.hamming(width)", 
      "    hamming2 = numpy.hamming(height)", 
      "    hamming = numpy.outer(hamming1, hamming2)", 
      "", 
      "    # Use it to mask the input to w", 
      "    mask = numpy.tile(hamming[None,:,:], (channels,1,1))", 
      "    mask = mask.reshape(channels*width*height)*k", 
      "    m = numpy.diag(mask)", 
      "    w = numpy.dot(w, m)", 
      "", 
      "    # Reshape the matrix into filters", 
      "    w = w.transpose(1,0)", 
      "    w =  w.reshape(channels, width, height, filters)", 
      "    w = numpy.float32(w)", 
      "    return w", 
      "", 
      "class Model(object):", 
      "    batch = 128", 
      "    input = cc_layers.CudaConvnetInput2DLayer(batch, 3, 32, 32)    ", 
      "    k = float(numpy.random.rand()*1+0.5)", 
      "    k = 1", 
      "    print '## k = %.3f' % k", 
      "    winit1 = k/numpy.sqrt(3*3*3) # was = 0.25 ", 
      "    winit2 = k/numpy.sqrt(3*3*32) # was = 0.75", 
      "    winit3 = k/numpy.sqrt(3*3*64)", 
      "    winit4 = k/numpy.sqrt(3*3*128)", 
      "    binit = 0.0", 
      "    nonlinearity = layers.identity", 
      "    ", 
      "    conv1 = cc_layers.CudaConvnetConv2DLayer(input, ", 
      "                                             n_filters=32,", 
      "                                             filter_size=3,", 
      "                                             weights_std=winit1,", 
      "                                             init_bias_value=binit,", 
      "                                             nonlinearity=nonlinearity,", 
      "                                             pad=0)", 
      "    pool1 = cc_layers.CudaConvnetPooling2DLayer(conv1, 2, stride=2)", 
      "    conv2 = cc_layers.CudaConvnetConv2DLayer(pool1,", 
      "                                             n_filters=64,", 
      "                                             filter_size=3,", 
      "                                             weights_std=winit2,", 
      "                                             init_bias_value=binit,", 
      "                                             nonlinearity=nonlinearity,", 
      "                                             pad=0)", 
      "    pool2 = cc_layers.CudaConvnetPooling2DLayer(conv2, 2, stride=2)", 
      "    conv3 = cc_layers.CudaConvnetConv2DLayer(pool2,", 
      "                                             n_filters=128,", 
      "                                             filter_size=3,", 
      "                                             weights_std=winit2,", 
      "                                             init_bias_value=binit,", 
      "                                             nonlinearity=nonlinearity,", 
      "                                             pad=0)", 
      "    pool3 = cc_layers.CudaConvnetPooling2DLayer(conv3, 2, stride=2)", 
      "    conv4 = cc_layers.CudaConvnetConv2DLayer(pool3,", 
      "                                             n_filters=128,", 
      "                                             filter_size=3,", 
      "                                             weights_std=winit2,", 
      "                                             init_bias_value=binit,", 
      "                                             nonlinearity=nonlinearity,", 
      "                                             pad=0)", 
      "    deconv5 = cc_layers.CudaConvnetDeconv2DLayer(conv4, conv4)", 
      "    unpool5 = cc_layers.CudaConvnetUnpooling2DLayer(deconv5, pool3)", 
      "    deconv6 = cc_layers.CudaConvnetDeconv2DLayer(unpool5, conv3)", 
      "    unpool6 = cc_layers.CudaConvnetUnpooling2DLayer(deconv6, pool2)", 
      "    deconv7 = cc_layers.CudaConvnetDeconv2DLayer(unpool6, conv2)", 
      "    unpool7 = cc_layers.CudaConvnetUnpooling2DLayer(deconv7, pool1)", 
      "    #unpool7 = cc_layers.CudaConvnetUnpooling2DLayer(pool1, pool1)", 
      "    output = cc_layers.CudaConvnetDeconv2DLayer(unpool7, conv1)", 
      "    ", 
      "    def __init__(self, name, path):", 
      "        self.name = name", 
      "        self.path = path", 
      "        self.all_parameters_symbol = layers.all_parameters(self._get_output_layer())", 
      "    ", 
      "        # can switch to gen_updates_regular_momentum", 
      "        self.learning_rate_symbol = theano.shared(numpy.array(0.000001, dtype=theano.config.floatX))", 
      "        # self.updates_symbol = layers.gen_updates_sgd(self._get_cost_symbol(),", 
      "        #                                             self.all_parameters_symbol,", 
      "        #                                             learning_rate=self.learning_rate_symbol)", 
      "        self.updates_symbol = layers.gen_updates_regular_momentum(self._get_cost_symbol(),", 
      "                                                                  self.all_parameters_symbol,", 
      "                                                                  learning_rate=self.learning_rate_symbol,", 
      "                                                                  momentum=0.9,", 
      "                                                                  weight_decay=1e-5)", 
      "", 
      "        ", 
      "        self.train_func = theano.function([self._get_input_symbol()],", 
      "                                           self._get_cost_symbol(),", 
      "                                           updates=self.updates_symbol)", 
      "        self.eval_func = theano.function([self._get_input_symbol()],", 
      "                                         self._get_cost_symbol())", 
      "        self.prediction_func = theano.function([self._get_input_symbol()],", 
      "                                          self._get_output_symbol())", 
      "    def _get_input_symbol(self):", 
      "        return self.input.output()", 
      "    ", 
      "    def _get_output_symbol(self):", 
      "        return self.output.output()", 
      "    ", 
      "    def _get_cost_symbol(self):", 
      "        input = self._get_input_symbol()", 
      "        output = self._get_output_symbol()", 
      "        cost = T.sum((output - input) ** 2)/self.batch", 
      "        return cost", 
      "", 
      "    def _get_output_layer(self):", 
      "        return self.output", 
      "    ", 
      "    def train(self, batch):", 
      "        return self.train_func(batch)", 
      "    ", 
      "    def eval(self, batch):", 
      "        return self.eval_func(batch)", 
      "", 
      "    def prediction(self, batch):", 
      "        return self.prediction_func(batch)"
     ], 
     "language": "python", 
     "outputs": [
      {
       "output_type": "stream", 
       "stream": "stdout", 
       "text": [
        "## k = 1.000"
       ]
      }
     ], 
     "prompt_number": 369
    }, 
    {
     "cell_type": "code", 
     "collapsed": false, 
     "input": [
      "test_iterator = util.get_cifar_iterator('test', ", 
      "                                    mode='sequential', ", 
      "                                    batch_size=128, ", 
      "                                    rescale=True)", 
      "        ", 
      "batch = test_iterator.next()", 
      "#batch = numpy.tile(batch[0, :, :, :][None, :, :, :], (16, 1, 1, 1))"
     ], 
     "language": "python", 
     "outputs": [
      {
       "output_type": "stream", 
       "stream": "stdout", 
       "text": [
        "loading file /media/hd1/data/cifar10/cifar-10-batches-py/data_batch_1"
       ]
      }, 
      {
       "output_type": "stream", 
       "stream": "stdout", 
       "text": [
        "loading file /media/hd1/data/cifar10/cifar-10-batches-py/data_batch_2"
       ]
      }, 
      {
       "output_type": "stream", 
       "stream": "stdout", 
       "text": [
        "loading file /media/hd1/data/cifar10/cifar-10-batches-py/data_batch_3"
       ]
      }, 
      {
       "output_type": "stream", 
       "stream": "stdout", 
       "text": [
        "loading file /media/hd1/data/cifar10/cifar-10-batches-py/data_batch_4"
       ]
      }, 
      {
       "output_type": "stream", 
       "stream": "stdout", 
       "text": [
        "loading file /media/hd1/data/cifar10/cifar-10-batches-py/data_batch_5"
       ]
      }, 
      {
       "output_type": "stream", 
       "stream": "stdout", 
       "text": [
        "loading file /media/hd1/data/cifar10/cifar-10-batches-py/test_batch"
       ]
      }
     ], 
     "prompt_number": 359
    }, 
    {
     "cell_type": "code", 
     "collapsed": false, 
     "input": [
      "model = Model('gah' ,'/experiments/vis_test')", 
      "print('Orthogonalizing Weights')", 
      "w1 = model.conv1.W.get_value()", 
      "w2 = model.conv2.W.get_value()", 
      "w3 = model.conv3.W.get_value()", 
      "w4 = model.conv4.W.get_value()", 
      "w1 = conv_orthogonalize(w1)", 
      "w2 = conv_orthogonalize(w2)", 
      "w3 = conv_orthogonalize(w3)", 
      "", 
      "", 
      "# Initialize the layers with orthogonal weights", 
      "print model.k", 
      "model.conv1.W.set_value(w1*model.k)", 
      "model.conv2.W.set_value(w2*model.k)", 
      "model.conv3.W.set_value(w3*model.k)", 
      "model.conv4.W.set_value(w4*model.k)"
     ], 
     "language": "python", 
     "outputs": [
      {
       "output_type": "stream", 
       "stream": "stdout", 
       "text": [
        "Orthogonalizing Weights", 
        "1"
       ]
      }
     ], 
     "prompt_number": 378
    }, 
    {
     "cell_type": "code", 
     "collapsed": false, 
     "input": [
      "gah = model.prediction(batch)", 
      "print numpy.max(batch)", 
      "print numpy.min(batch)", 
      "print numpy.max(gah)", 
      "print numpy.min(gah)"
     ], 
     "language": "python", 
     "outputs": [
      {
       "output_type": "stream", 
       "stream": "stdout", 
       "text": [
        "2.0", 
        "0.0", 
        "0.0504218", 
        "-0.0490234"
       ]
      }
     ], 
     "prompt_number": 379
    }, 
    {
     "cell_type": "code", 
     "collapsed": false, 
     "input": [
      "i = numpy.random.randint(128)", 
      "i = 13", 
      "#i = 109", 
      "#i = 42", 
      "print i", 
      "recon = numpy.array(gah[:, :, :, i]).transpose(1, 2, 0)", 
      "image = numpy.array(batch[:, :, :, i]).transpose(1, 2, 0)", 
      "print recon.shape", 
      "pyplot.subplot(1, 4, 1)", 
      "pyplot.imshow(image[:, :, 0])", 
      "", 
      "pyplot.subplot(1, 4, 2)", 
      "pyplot.imshow(recon[:, :, 0])", 
      "", 
      "pyplot.subplot(1, 4, 3)", 
      "pyplot.imshow(recon[:, :, 0]>1e-4)", 
      "", 
      "pyplot.subplot(1, 4, 4)", 
      "pyplot.imshow(image[:, :, 0] * (recon[:, :, 0]>1e-4))", 
      "pyplot.show()"
     ], 
     "language": "python", 
     "outputs": [
      {
       "output_type": "stream", 
       "stream": "stdout", 
       "text": [
        "13", 
        "(32, 32, 3)"
       ]
      }
     ], 
     "prompt_number": 380
    }, 
    {
     "cell_type": "code", 
     "collapsed": false, 
     "input": [
      "", 
      "", 
      "i = numpy.random.randint(128)", 
      "", 
      "image = batch[:, :, :, i]", 
      "image = image.transpose(1, 2, 0)", 
      "", 
      "recon = numpy.array(gah[:, :, :, i])", 
      "recon = recon.transpose(1, 2, 0)", 
      "", 
      "image_array = numpy.uint8(rescale(numpy.hstack((image, recon))))", 
      "", 
      "to_save = Image.fromarray(image_array)", 
      "filename = 'recon-%02d.jpeg' % i", 
      "filepath = os.path.join('/experiments/results/stl10-e006/', filename)", 
      "to_save.save(filepath)"
     ], 
     "language": "python", 
     "outputs": [
      {
       "ename": "NameError", 
       "evalue": "name 'Image' is not defined", 
       "output_type": "pyerr", 
       "traceback": [
        "\u001b[0;31m---------------------------------------------------------------------------\u001b[0m\n\u001b[0;31mNameError\u001b[0m                                 Traceback (most recent call last)", 
        "\u001b[0;32m/home/paine1/fastor/fastor/<ipython-input-381-2ba7a1759355>\u001b[0m in \u001b[0;36m<module>\u001b[0;34m()\u001b[0m\n\u001b[1;32m     11\u001b[0m \u001b[0mimage_array\u001b[0m \u001b[0;34m=\u001b[0m \u001b[0mnumpy\u001b[0m\u001b[0;34m.\u001b[0m\u001b[0muint8\u001b[0m\u001b[0;34m(\u001b[0m\u001b[0mrescale\u001b[0m\u001b[0;34m(\u001b[0m\u001b[0mnumpy\u001b[0m\u001b[0;34m.\u001b[0m\u001b[0mhstack\u001b[0m\u001b[0;34m(\u001b[0m\u001b[0;34m(\u001b[0m\u001b[0mimage\u001b[0m\u001b[0;34m,\u001b[0m \u001b[0mrecon\u001b[0m\u001b[0;34m)\u001b[0m\u001b[0;34m)\u001b[0m\u001b[0;34m)\u001b[0m\u001b[0;34m)\u001b[0m\u001b[0;34m\u001b[0m\u001b[0m\n\u001b[1;32m     12\u001b[0m \u001b[0;34m\u001b[0m\u001b[0m\n\u001b[0;32m---> 13\u001b[0;31m \u001b[0mto_save\u001b[0m \u001b[0;34m=\u001b[0m \u001b[0mImage\u001b[0m\u001b[0;34m.\u001b[0m\u001b[0mfromarray\u001b[0m\u001b[0;34m(\u001b[0m\u001b[0mimage_array\u001b[0m\u001b[0;34m)\u001b[0m\u001b[0;34m\u001b[0m\u001b[0m\n\u001b[0m\u001b[1;32m     14\u001b[0m \u001b[0mfilename\u001b[0m \u001b[0;34m=\u001b[0m \u001b[0;34m'recon-%02d.jpeg'\u001b[0m \u001b[0;34m%\u001b[0m \u001b[0mi\u001b[0m\u001b[0;34m\u001b[0m\u001b[0m\n\u001b[1;32m     15\u001b[0m \u001b[0mfilepath\u001b[0m \u001b[0;34m=\u001b[0m \u001b[0mos\u001b[0m\u001b[0;34m.\u001b[0m\u001b[0mpath\u001b[0m\u001b[0;34m.\u001b[0m\u001b[0mjoin\u001b[0m\u001b[0;34m(\u001b[0m\u001b[0;34m'/experiments/results/stl10-e006/'\u001b[0m\u001b[0;34m,\u001b[0m \u001b[0mfilename\u001b[0m\u001b[0;34m)\u001b[0m\u001b[0;34m\u001b[0m\u001b[0m\n", 
        "\u001b[0;31mNameError\u001b[0m: name 'Image' is not defined"
       ]
      }
     ], 
     "prompt_number": 381
    }, 
    {
     "cell_type": "code", 
     "collapsed": true, 
     "input": [
      "class ReconVisualizer(object):", 
      "    def __init__(self, model, batch, steps=5000):", 
      "        self.model = model", 
      "        self.batch = batch", 
      "        self.count = 0", 
      "        self.steps = steps", 
      "        self.save_path = os.path.join(self.model.path, 'recon')", 
      "        ", 
      "        if not os.path.exists(self.save_path):", 
      "            os.makedirs(self.save_path)", 
      "    ", 
      "    def run(self):", 
      "        if self.count % self.steps == 0:", 
      "            self._save()", 
      "    ", 
      "    def _save(self):", 
      "        tt = datetime.now()", 
      "        time_string = tt.strftime('%mm-%dd-%Hh-%Mm-%Ss')", 
      "        sub_path = os.path.join(self.save_path, time_string)", 
      "        ", 
      "        if not os.path.exists(sub_path):", 
      "            os.makedirs(sub_path)", 
      "        ", 
      "        prediction = self.model.prediction(self.batch)", 
      "        for i in range(128):", 
      "            image = self.batch[:, :, :, i]", 
      "            image = image.transpose(1, 2, 0)", 
      "", 
      "            recon = numpy.array(prediction[:, :, :, i])", 
      "            recon = recon.transpose(1, 2, 0)", 
      "", 
      "            image_array = numpy.uint8(rescale(numpy.hstack((image, recon))))", 
      "", 
      "            to_save = Image.fromarray(image_array)", 
      "            filename = 'recon-%02d.jpeg' % i", 
      "            filepath = os.path.join(sub_path, filename)", 
      "            to_save.save(filepath)"
     ], 
     "language": "python", 
     "outputs": [], 
     "prompt_number": 383
    }, 
    {
     "cell_type": "code", 
     "collapsed": false, 
     "input": [
      "import Image"
     ], 
     "language": "python", 
     "outputs": [], 
     "prompt_number": 382
    }, 
    {
     "cell_type": "code", 
     "collapsed": true, 
     "input": [
      "rv.run()"
     ], 
     "language": "python", 
     "outputs": [], 
     "prompt_number": 385
    }, 
    {
     "cell_type": "code", 
     "collapsed": false, 
     "input": [], 
     "language": "python", 
     "outputs": [
      {
       "output_type": "pyout", 
       "prompt_number": 374, 
       "text": [
        "'09m-22d-14h-28m-21s'"
       ]
      }
     ], 
     "prompt_number": 374
    }, 
    {
     "cell_type": "code", 
     "collapsed": false, 
     "input": [
      "0.4*2000/60"
     ], 
     "language": "python", 
     "outputs": [
      {
       "output_type": "pyout", 
       "prompt_number": 389, 
       "text": [
        "13.333333333333334"
       ]
      }
     ], 
     "prompt_number": 389
    }, 
    {
     "cell_type": "code", 
     "collapsed": true, 
     "input": [], 
     "language": "python", 
     "outputs": []
    }
   ]
  }
 ]
}