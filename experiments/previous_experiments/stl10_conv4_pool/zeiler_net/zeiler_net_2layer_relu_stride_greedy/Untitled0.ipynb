{
 "metadata": {
  "name": "",
  "signature": "sha256:0d11ab97890e0ff9fe4365f8de5c023e8daeef0d3c23f5c9b520d9c746512b92"
 },
 "nbformat": 3,
 "nbformat_minor": 0,
 "worksheets": [
  {
   "cells": [
    {
     "cell_type": "code",
     "collapsed": false,
     "input": [
      "import numpy\n",
      "from matplotlib import pyplot\n",
      "\n",
      "import theano\n",
      "import theano.tensor as T\n",
      "\n",
      "from fastor.datasets import unsupervised_dataset\n",
      "from model import Model"
     ],
     "language": "python",
     "metadata": {},
     "outputs": [],
     "prompt_number": 15
    },
    {
     "cell_type": "code",
     "collapsed": false,
     "input": [
      "model = Model('gah', 'gah')"
     ],
     "language": "python",
     "metadata": {},
     "outputs": [
      {
       "output_type": "stream",
       "stream": "stderr",
       "text": [
        "Using gpu device 0: GeForce GTX TITAN\n",
        "/home/paine1/Theano/theano/sandbox/rng_mrg.py:1188: UserWarning: MRG_RandomStreams Can't determine #streams from size (Shape.0), guessing 60*256\n",
        "  nstreams = self.n_streams(size)\n"
       ]
      }
     ],
     "prompt_number": 3
    },
    {
     "cell_type": "code",
     "collapsed": false,
     "input": [
      "output = theano.function([model.input.output()], T.sum(model.conv2.output(), axis=(1,2,3)))"
     ],
     "language": "python",
     "metadata": {},
     "outputs": [],
     "prompt_number": 22
    },
    {
     "cell_type": "code",
     "collapsed": false,
     "input": [
      "data = numpy.load('/data/stl10_matlab/unsupervised.npy')\n",
      "data = numpy.float32(data)\n",
      "data /= 255.0\n",
      "data *= 2.0\n",
      "train_data = data[0:90000, :, :, :]\n",
      "test_data = data[90000::, :, :, :]\n",
      "\n",
      "train_dataset = unsupervised_dataset.UnsupervisedDataset(train_data)\n",
      "test_dataset = unsupervised_dataset.UnsupervisedDataset(test_data)\n",
      "train_iterator = train_dataset.iterator(mode='random_uniform', batch_size=128, num_batches=100000)\n",
      "test_iterator = test_dataset.iterator(mode='sequential', batch_size=128)\n",
      "\n",
      "test_x_batch = test_iterator.next()\n",
      "test_x_batch = test_x_batch.transpose(1, 2, 3, 0)"
     ],
     "language": "python",
     "metadata": {},
     "outputs": [],
     "prompt_number": 8
    },
    {
     "cell_type": "code",
     "collapsed": false,
     "input": [
      "W = numpy.array(model.conv2.W.get_value())\n",
      "numpy.sort(numpy.sum(W**2,axis=(0,1,2)))"
     ],
     "language": "python",
     "metadata": {},
     "outputs": [],
     "prompt_number": 27
    },
    {
     "cell_type": "code",
     "collapsed": false,
     "input": [
      "numpy.sort(numpy.sum(W**2,axis=(0,1,2)))"
     ],
     "language": "python",
     "metadata": {},
     "outputs": [
      {
       "metadata": {},
       "output_type": "pyout",
       "prompt_number": 33,
       "text": [
        "array([ 0.03778152,  0.03807897,  0.03822681,  0.03824082,  0.03833857,\n",
        "        0.03843647,  0.03846987,  0.03850364,  0.03851872,  0.03854754,\n",
        "        0.03876084,  0.03899175,  0.03902428,  0.03905407,  0.03907206,\n",
        "        0.03918199,  0.03923905,  0.03923938,  0.03924655,  0.03925434,\n",
        "        0.03931197,  0.039315  ,  0.03934416,  0.0393548 ,  0.03935526,\n",
        "        0.03936056,  0.03947811,  0.03950688,  0.03952426,  0.03955577,\n",
        "        0.03956857,  0.03957808,  0.03965686,  0.03968057,  0.03970369,\n",
        "        0.03971361,  0.03973699,  0.03974854,  0.03975442,  0.03976513,\n",
        "        0.03978416,  0.03978491,  0.03979285,  0.03984151,  0.0398469 ,\n",
        "        0.03986403,  0.03992752,  0.0399556 ,  0.04001157,  0.04001496,\n",
        "        0.04004825,  0.04005443,  0.04007592,  0.04010942,  0.0401111 ,\n",
        "        0.04012724,  0.04012864,  0.0401394 ,  0.04017496,  0.04022449,\n",
        "        0.04024122,  0.04029656,  0.04031041,  0.04032134,  0.04032492,\n",
        "        0.040353  ,  0.0403637 ,  0.04039688,  0.04041231,  0.04044277,\n",
        "        0.04046308,  0.04047941,  0.04053127,  0.04053886,  0.04056832,\n",
        "        0.04064468,  0.04065147,  0.0406826 ,  0.04069211,  0.04070661,\n",
        "        0.04072191,  0.04073213,  0.0407352 ,  0.04086798,  0.04089912,\n",
        "        0.04090283,  0.0410144 ,  0.04103031,  0.04104724,  0.04111916,\n",
        "        0.04125757,  0.04136911,  0.04148379,  0.04149614,  0.04174361,\n",
        "        0.04181521], dtype=float32)"
       ]
      }
     ],
     "prompt_number": 33
    },
    {
     "cell_type": "code",
     "collapsed": false,
     "input": [],
     "language": "python",
     "metadata": {},
     "outputs": []
    }
   ],
   "metadata": {}
  }
 ]
}