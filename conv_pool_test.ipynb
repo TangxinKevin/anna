{
 "metadata": {
  "name": "conv_pool_test"
 }, 
 "nbformat": 2, 
 "worksheets": [
  {
   "cells": [
    {
     "cell_type": "code", 
     "collapsed": true, 
     "input": [
      "import numpy", 
      "import theano", 
      "", 
      "from theano.sandbox.cuda.basic_ops import gpu_contiguous", 
      "import theano.tensor as T", 
      "from fastor.layers import cc_layers", 
      "from pylearn2.sandbox.cuda_convnet.pool import MaxPool, MaxPoolGrad", 
      "theano.config.floatX = 'float32'"
     ], 
     "language": "python", 
     "outputs": [], 
     "prompt_number": 49
    }, 
    {
     "cell_type": "code", 
     "collapsed": false, 
     "input": [
      "input = cc_layers.CudaConvnetInput2DLayer(128, 3, 32, 32)    ", 
      "k = float(numpy.random.rand()*1+0.5)", 
      "winit1 = k/numpy.sqrt(3*3*3) # was = 0.25 ", 
      "winit2 = k/numpy.sqrt(3*3*32) # was = 0.75", 
      "winit3 = k/numpy.sqrt(3*3*64)", 
      "winit4 = k/numpy.sqrt(3*3*128)", 
      "binit = 0.0", 
      "nonlinearity = layers.rectify", 
      "    ", 
      "conv1 = cc_layers.CudaConvnetConv2DLayer(input, ", 
      "                                             n_filters=32,", 
      "                                             filter_size=3,", 
      "                                             weights_std=winit1,", 
      "                                             init_bias_value=binit,", 
      "                                             nonlinearity=nonlinearity,", 
      "                                             pad=0)", 
      "#print 'conv1'", 
      "#print conv1.get_output_shape()", 
      "pool1 = cc_layers.CudaConvnetPooling2DLayer(conv1, 2, stride=2)", 
      "unpool2 = cc_layers.CudaConvnetUnpooling2DLayer(pool1, pool1)", 
      "output = cc_layers.CudaConvnetDeconv2DLayer(unpool2, conv1)", 
      "out_func = theano.function([input.output()], output.output())", 
      "batch = numpy.zeros((3,32,32,128),dtype=numpy.float32)", 
      "out_func(batch).shape"
     ], 
     "language": "python", 
     "outputs": [
      {
       "output_type": "pyout", 
       "prompt_number": 79, 
       "text": [
        "(3, 32, 32, 128)"
       ]
      }
     ], 
     "prompt_number": 79
    }, 
    {
     "cell_type": "code", 
     "collapsed": false, 
     "input": [
      "input = T.ftensor4(name='input')", 
      "pool = MaxPool(2,2)(input)", 
      "unpool = MaxPoolGrad(2,2,0)(input, pool, pool)"
     ], 
     "language": "python", 
     "outputs": [], 
     "prompt_number": 59
    }, 
    {
     "cell_type": "code", 
     "collapsed": false, 
     "input": [
      "out_func = theano.function([input], unpool)"
     ], 
     "language": "python", 
     "outputs": [], 
     "prompt_number": 60
    }, 
    {
     "cell_type": "code", 
     "collapsed": true, 
     "input": [
      "batch = numpy.zeros((16,32,32,128),dtype=numpy.float32)"
     ], 
     "language": "python", 
     "outputs": [], 
     "prompt_number": 57
    }, 
    {
     "cell_type": "code", 
     "collapsed": false, 
     "input": [
      "out_func(batch).shape"
     ], 
     "language": "python", 
     "outputs": [
      {
       "output_type": "pyout", 
       "prompt_number": 58, 
       "text": [
        "(16, 32, 32, 128)"
       ]
      }
     ], 
     "prompt_number": 58
    }, 
    {
     "cell_type": "code", 
     "collapsed": true, 
     "input": [], 
     "language": "python", 
     "outputs": []
    }
   ]
  }
 ]
}